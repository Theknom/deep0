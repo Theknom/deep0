{
 "cells": [
  {
   "cell_type": "code",
   "execution_count": 1,
   "metadata": {},
   "outputs": [
    {
     "name": "stdout",
     "output_type": "stream",
     "text": [
      "0\n",
      "0\n",
      "0\n",
      "1\n"
     ]
    }
   ],
   "source": [
    "from perceptron import AND1\n",
    "\n",
    "\n",
    "AND1_1 = AND1(0, 0)\n",
    "AND1_2 = AND1(1, 0)\n",
    "AND1_3 = AND1(0, 1)\n",
    "AND1_4 = AND1(1, 1)\n",
    "print(AND1_1.output())\n",
    "print(AND1_2.output())\n",
    "print(AND1_3.output())\n",
    "print(AND1_4.output())"
   ]
  },
  {
   "cell_type": "code",
   "execution_count": 2,
   "metadata": {},
   "outputs": [],
   "source": [
    "import numpy as np\n",
    "x = np.array([0, 1])\n",
    "w = np.array([0.5, 0.5])\n",
    "b = -0.7 # ANDモジュールのthetaの役割で、移行しているからマイナス"
   ]
  },
  {
   "cell_type": "code",
   "execution_count": 3,
   "metadata": {},
   "outputs": [
    {
     "name": "stdout",
     "output_type": "stream",
     "text": [
      "[0.  0.5]\n",
      "0.5\n",
      "-0.19999999999999996\n"
     ]
    }
   ],
   "source": [
    "print(w*x) # 各項の掛け算\n",
    "print(np.sum(w*x)) \n",
    "print(np.sum(w*x) + b)"
   ]
  },
  {
   "cell_type": "code",
   "execution_count": 4,
   "metadata": {},
   "outputs": [
    {
     "name": "stdout",
     "output_type": "stream",
     "text": [
      "0\n",
      "0\n",
      "0\n",
      "1\n"
     ]
    }
   ],
   "source": [
    "from perceptron import AND2\n",
    "\n",
    "AND2_1 = AND2(0, 0)\n",
    "AND2_2 = AND2(1, 0)\n",
    "AND2_3 = AND2(0, 1)\n",
    "AND2_4 = AND2(1, 1)\n",
    "print(AND2_1.output())\n",
    "print(AND2_2.output())\n",
    "print(AND2_3.output())\n",
    "print(AND2_4.output())"
   ]
  },
  {
   "cell_type": "code",
   "execution_count": 5,
   "metadata": {},
   "outputs": [
    {
     "name": "stdout",
     "output_type": "stream",
     "text": [
      "0\n",
      "1\n",
      "1\n",
      "1\n"
     ]
    }
   ],
   "source": [
    "from perceptron import OR\n",
    "OR_1 = OR(0, 0)\n",
    "OR_2 = OR(1, 0)\n",
    "OR_3 = OR(0, 1)\n",
    "OR_4 = OR(1, 1)\n",
    "print(OR_1.output())\n",
    "print(OR_2.output())    \n",
    "print(OR_3.output())\n",
    "print(OR_4.output())\n",
    "# ORの出力: 0, 1, 1, 1"
   ]
  },
  {
   "cell_type": "code",
   "execution_count": 6,
   "metadata": {},
   "outputs": [
    {
     "name": "stdout",
     "output_type": "stream",
     "text": [
      "1\n",
      "1\n",
      "1\n",
      "0\n"
     ]
    }
   ],
   "source": [
    "from perceptron import NAND\n",
    "NAND_1 = NAND(0, 0)\n",
    "NAND_2 = NAND(1, 0)\n",
    "NAND_3 = NAND(0, 1)\n",
    "NAND_4 = NAND(1, 1)\n",
    "print(NAND_1.output())\n",
    "print(NAND_2.output())\n",
    "print(NAND_3.output())\n",
    "print(NAND_4.output())\n",
    "# NANDの出力: 1, 1, 1, 0"
   ]
  },
  {
   "cell_type": "code",
   "execution_count": 1,
   "metadata": {},
   "outputs": [
    {
     "name": "stdout",
     "output_type": "stream",
     "text": [
      "0\n",
      "1\n",
      "1\n",
      "0\n"
     ]
    }
   ],
   "source": [
    "from perceptron import XOR\n",
    "XOR_1 = XOR(0, 0)\n",
    "XOR_2 = XOR(1, 0)\n",
    "XOR_3 = XOR(0, 1)\n",
    "XOR_4 = XOR(1, 1)\n",
    "print(XOR_1.output())\n",
    "print(XOR_2.output())\n",
    "print(XOR_3.output())\n",
    "print(XOR_4.output())\n",
    "# XORの出力: 0, 1, 1, 0"
   ]
  },
  {
   "cell_type": "code",
   "execution_count": null,
   "metadata": {},
   "outputs": [],
   "source": []
  }
 ],
 "metadata": {
  "kernelspec": {
   "display_name": ".venv_ml-practice",
   "language": "python",
   "name": "python3"
  },
  "language_info": {
   "codemirror_mode": {
    "name": "ipython",
    "version": 3
   },
   "file_extension": ".py",
   "mimetype": "text/x-python",
   "name": "python",
   "nbconvert_exporter": "python",
   "pygments_lexer": "ipython3",
   "version": "3.12.9"
  }
 },
 "nbformat": 4,
 "nbformat_minor": 2
}
